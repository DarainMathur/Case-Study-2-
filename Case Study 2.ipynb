{
 "cells": [
  {
   "cell_type": "markdown",
   "metadata": {},
   "source": [
    "## Import relevant packages"
   ]
  },
  {
   "cell_type": "code",
   "execution_count": 165,
   "metadata": {},
   "outputs": [],
   "source": [
    "import numpy as np\n",
    "import pandas as pd\n",
    "import matplotlib.pyplot as plt\n",
    "import seaborn as sns\n",
    "import plotly.express as px"
   ]
  },
  {
   "cell_type": "markdown",
   "metadata": {},
   "source": [
    "## Import Dataset as a dataframe"
   ]
  },
  {
   "cell_type": "code",
   "execution_count": 166,
   "metadata": {},
   "outputs": [],
   "source": [
    " data = pd.read_csv(\"C:/Users/mdara/Jupyter/Untitled Folder/Stout Projects/Case Study 2/casestudy.csv\")"
   ]
  },
  {
   "cell_type": "markdown",
   "metadata": {},
   "source": [
    "## Quick Overview of the data"
   ]
  },
  {
   "cell_type": "code",
   "execution_count": 167,
   "metadata": {},
   "outputs": [
    {
     "name": "stdout",
     "output_type": "stream",
     "text": [
      "<class 'pandas.core.frame.DataFrame'>\n",
      "RangeIndex: 685927 entries, 0 to 685926\n",
      "Data columns (total 4 columns):\n",
      " #   Column          Non-Null Count   Dtype  \n",
      "---  ------          --------------   -----  \n",
      " 0   Unnamed: 0      685927 non-null  int64  \n",
      " 1   customer_email  685927 non-null  object \n",
      " 2   net_revenue     685927 non-null  float64\n",
      " 3   year            685927 non-null  int64  \n",
      "dtypes: float64(1), int64(2), object(1)\n",
      "memory usage: 20.9+ MB\n"
     ]
    },
    {
     "data": {
      "text/html": [
       "<div>\n",
       "<style scoped>\n",
       "    .dataframe tbody tr th:only-of-type {\n",
       "        vertical-align: middle;\n",
       "    }\n",
       "\n",
       "    .dataframe tbody tr th {\n",
       "        vertical-align: top;\n",
       "    }\n",
       "\n",
       "    .dataframe thead th {\n",
       "        text-align: right;\n",
       "    }\n",
       "</style>\n",
       "<table border=\"1\" class=\"dataframe\">\n",
       "  <thead>\n",
       "    <tr style=\"text-align: right;\">\n",
       "      <th></th>\n",
       "      <th>Unnamed: 0</th>\n",
       "      <th>customer_email</th>\n",
       "      <th>net_revenue</th>\n",
       "      <th>year</th>\n",
       "    </tr>\n",
       "  </thead>\n",
       "  <tbody>\n",
       "    <tr>\n",
       "      <th>0</th>\n",
       "      <td>0</td>\n",
       "      <td>nhknapwsbx@gmail.com</td>\n",
       "      <td>249.92</td>\n",
       "      <td>2015</td>\n",
       "    </tr>\n",
       "    <tr>\n",
       "      <th>1</th>\n",
       "      <td>1</td>\n",
       "      <td>joiuzbvcpn@gmail.com</td>\n",
       "      <td>87.61</td>\n",
       "      <td>2015</td>\n",
       "    </tr>\n",
       "    <tr>\n",
       "      <th>2</th>\n",
       "      <td>2</td>\n",
       "      <td>ukkjctepxt@gmail.com</td>\n",
       "      <td>168.38</td>\n",
       "      <td>2015</td>\n",
       "    </tr>\n",
       "    <tr>\n",
       "      <th>3</th>\n",
       "      <td>3</td>\n",
       "      <td>gykatilzrt@gmail.com</td>\n",
       "      <td>62.40</td>\n",
       "      <td>2015</td>\n",
       "    </tr>\n",
       "    <tr>\n",
       "      <th>4</th>\n",
       "      <td>4</td>\n",
       "      <td>mmsgsrtxah@gmail.com</td>\n",
       "      <td>43.08</td>\n",
       "      <td>2015</td>\n",
       "    </tr>\n",
       "    <tr>\n",
       "      <th>5</th>\n",
       "      <td>5</td>\n",
       "      <td>mobvusnzfr@gmail.com</td>\n",
       "      <td>39.44</td>\n",
       "      <td>2015</td>\n",
       "    </tr>\n",
       "    <tr>\n",
       "      <th>6</th>\n",
       "      <td>6</td>\n",
       "      <td>kxwkqvacsv@gmail.com</td>\n",
       "      <td>171.46</td>\n",
       "      <td>2015</td>\n",
       "    </tr>\n",
       "    <tr>\n",
       "      <th>7</th>\n",
       "      <td>7</td>\n",
       "      <td>iqmnugdcjs@gmail.com</td>\n",
       "      <td>111.99</td>\n",
       "      <td>2015</td>\n",
       "    </tr>\n",
       "    <tr>\n",
       "      <th>8</th>\n",
       "      <td>8</td>\n",
       "      <td>baiikostmd@gmail.com</td>\n",
       "      <td>170.70</td>\n",
       "      <td>2015</td>\n",
       "    </tr>\n",
       "    <tr>\n",
       "      <th>9</th>\n",
       "      <td>9</td>\n",
       "      <td>lfeafnigbu@gmail.com</td>\n",
       "      <td>54.99</td>\n",
       "      <td>2015</td>\n",
       "    </tr>\n",
       "    <tr>\n",
       "      <th>10</th>\n",
       "      <td>10</td>\n",
       "      <td>utycjynusf@gmail.com</td>\n",
       "      <td>89.05</td>\n",
       "      <td>2015</td>\n",
       "    </tr>\n",
       "    <tr>\n",
       "      <th>11</th>\n",
       "      <td>11</td>\n",
       "      <td>dptyjlaniw@gmail.com</td>\n",
       "      <td>204.39</td>\n",
       "      <td>2015</td>\n",
       "    </tr>\n",
       "    <tr>\n",
       "      <th>12</th>\n",
       "      <td>12</td>\n",
       "      <td>ywioceuqnw@gmail.com</td>\n",
       "      <td>76.70</td>\n",
       "      <td>2015</td>\n",
       "    </tr>\n",
       "    <tr>\n",
       "      <th>13</th>\n",
       "      <td>13</td>\n",
       "      <td>hrnaahgrqr@gmail.com</td>\n",
       "      <td>65.32</td>\n",
       "      <td>2015</td>\n",
       "    </tr>\n",
       "    <tr>\n",
       "      <th>14</th>\n",
       "      <td>14</td>\n",
       "      <td>sktswronzp@gmail.com</td>\n",
       "      <td>102.87</td>\n",
       "      <td>2015</td>\n",
       "    </tr>\n",
       "    <tr>\n",
       "      <th>15</th>\n",
       "      <td>15</td>\n",
       "      <td>tqxsjlgjpi@gmail.com</td>\n",
       "      <td>107.71</td>\n",
       "      <td>2015</td>\n",
       "    </tr>\n",
       "    <tr>\n",
       "      <th>16</th>\n",
       "      <td>16</td>\n",
       "      <td>hxshgpdxtr@gmail.com</td>\n",
       "      <td>180.59</td>\n",
       "      <td>2015</td>\n",
       "    </tr>\n",
       "    <tr>\n",
       "      <th>17</th>\n",
       "      <td>17</td>\n",
       "      <td>ifilbfvetw@gmail.com</td>\n",
       "      <td>215.90</td>\n",
       "      <td>2015</td>\n",
       "    </tr>\n",
       "    <tr>\n",
       "      <th>18</th>\n",
       "      <td>18</td>\n",
       "      <td>urqinnnoue@gmail.com</td>\n",
       "      <td>181.91</td>\n",
       "      <td>2015</td>\n",
       "    </tr>\n",
       "    <tr>\n",
       "      <th>19</th>\n",
       "      <td>19</td>\n",
       "      <td>mzqkkusvjz@gmail.com</td>\n",
       "      <td>38.53</td>\n",
       "      <td>2015</td>\n",
       "    </tr>\n",
       "    <tr>\n",
       "      <th>20</th>\n",
       "      <td>20</td>\n",
       "      <td>kdshnrqshe@gmail.com</td>\n",
       "      <td>245.25</td>\n",
       "      <td>2015</td>\n",
       "    </tr>\n",
       "    <tr>\n",
       "      <th>21</th>\n",
       "      <td>21</td>\n",
       "      <td>ehgpdadhkb@gmail.com</td>\n",
       "      <td>157.16</td>\n",
       "      <td>2015</td>\n",
       "    </tr>\n",
       "    <tr>\n",
       "      <th>22</th>\n",
       "      <td>22</td>\n",
       "      <td>hdefrrdccu@gmail.com</td>\n",
       "      <td>174.05</td>\n",
       "      <td>2015</td>\n",
       "    </tr>\n",
       "    <tr>\n",
       "      <th>23</th>\n",
       "      <td>23</td>\n",
       "      <td>ithsayiheg@gmail.com</td>\n",
       "      <td>43.62</td>\n",
       "      <td>2015</td>\n",
       "    </tr>\n",
       "    <tr>\n",
       "      <th>24</th>\n",
       "      <td>24</td>\n",
       "      <td>zvhsssvgor@gmail.com</td>\n",
       "      <td>21.55</td>\n",
       "      <td>2015</td>\n",
       "    </tr>\n",
       "    <tr>\n",
       "      <th>25</th>\n",
       "      <td>25</td>\n",
       "      <td>gkdstuxmfk@gmail.com</td>\n",
       "      <td>94.02</td>\n",
       "      <td>2015</td>\n",
       "    </tr>\n",
       "    <tr>\n",
       "      <th>26</th>\n",
       "      <td>26</td>\n",
       "      <td>jjafctqaqe@gmail.com</td>\n",
       "      <td>32.09</td>\n",
       "      <td>2015</td>\n",
       "    </tr>\n",
       "    <tr>\n",
       "      <th>27</th>\n",
       "      <td>27</td>\n",
       "      <td>xiwenewrdq@gmail.com</td>\n",
       "      <td>222.78</td>\n",
       "      <td>2015</td>\n",
       "    </tr>\n",
       "    <tr>\n",
       "      <th>28</th>\n",
       "      <td>28</td>\n",
       "      <td>gipqsrvngd@gmail.com</td>\n",
       "      <td>122.71</td>\n",
       "      <td>2015</td>\n",
       "    </tr>\n",
       "    <tr>\n",
       "      <th>29</th>\n",
       "      <td>29</td>\n",
       "      <td>iqdogiwbsn@gmail.com</td>\n",
       "      <td>243.29</td>\n",
       "      <td>2015</td>\n",
       "    </tr>\n",
       "    <tr>\n",
       "      <th>30</th>\n",
       "      <td>30</td>\n",
       "      <td>luqtbavufp@gmail.com</td>\n",
       "      <td>56.15</td>\n",
       "      <td>2015</td>\n",
       "    </tr>\n",
       "    <tr>\n",
       "      <th>31</th>\n",
       "      <td>31</td>\n",
       "      <td>drnjwgseuf@gmail.com</td>\n",
       "      <td>199.89</td>\n",
       "      <td>2015</td>\n",
       "    </tr>\n",
       "    <tr>\n",
       "      <th>32</th>\n",
       "      <td>32</td>\n",
       "      <td>pmclqsdgki@gmail.com</td>\n",
       "      <td>13.23</td>\n",
       "      <td>2015</td>\n",
       "    </tr>\n",
       "    <tr>\n",
       "      <th>33</th>\n",
       "      <td>33</td>\n",
       "      <td>jmxtykhatc@gmail.com</td>\n",
       "      <td>68.71</td>\n",
       "      <td>2015</td>\n",
       "    </tr>\n",
       "    <tr>\n",
       "      <th>34</th>\n",
       "      <td>34</td>\n",
       "      <td>nxrjmwoizg@gmail.com</td>\n",
       "      <td>56.68</td>\n",
       "      <td>2015</td>\n",
       "    </tr>\n",
       "    <tr>\n",
       "      <th>35</th>\n",
       "      <td>35</td>\n",
       "      <td>qtpxmutgcv@gmail.com</td>\n",
       "      <td>98.29</td>\n",
       "      <td>2015</td>\n",
       "    </tr>\n",
       "    <tr>\n",
       "      <th>36</th>\n",
       "      <td>36</td>\n",
       "      <td>egkydtstfz@gmail.com</td>\n",
       "      <td>249.35</td>\n",
       "      <td>2015</td>\n",
       "    </tr>\n",
       "    <tr>\n",
       "      <th>37</th>\n",
       "      <td>37</td>\n",
       "      <td>aazmwnqixh@gmail.com</td>\n",
       "      <td>129.29</td>\n",
       "      <td>2015</td>\n",
       "    </tr>\n",
       "    <tr>\n",
       "      <th>38</th>\n",
       "      <td>38</td>\n",
       "      <td>yydtkvjufm@gmail.com</td>\n",
       "      <td>189.45</td>\n",
       "      <td>2015</td>\n",
       "    </tr>\n",
       "    <tr>\n",
       "      <th>39</th>\n",
       "      <td>39</td>\n",
       "      <td>uwxnjcdstj@gmail.com</td>\n",
       "      <td>42.12</td>\n",
       "      <td>2015</td>\n",
       "    </tr>\n",
       "    <tr>\n",
       "      <th>40</th>\n",
       "      <td>40</td>\n",
       "      <td>akwxtbjuki@gmail.com</td>\n",
       "      <td>246.79</td>\n",
       "      <td>2015</td>\n",
       "    </tr>\n",
       "    <tr>\n",
       "      <th>41</th>\n",
       "      <td>41</td>\n",
       "      <td>hejtkusufw@gmail.com</td>\n",
       "      <td>129.21</td>\n",
       "      <td>2015</td>\n",
       "    </tr>\n",
       "    <tr>\n",
       "      <th>42</th>\n",
       "      <td>42</td>\n",
       "      <td>uojxdezlzq@gmail.com</td>\n",
       "      <td>118.55</td>\n",
       "      <td>2015</td>\n",
       "    </tr>\n",
       "    <tr>\n",
       "      <th>43</th>\n",
       "      <td>43</td>\n",
       "      <td>esxojnufym@gmail.com</td>\n",
       "      <td>83.04</td>\n",
       "      <td>2015</td>\n",
       "    </tr>\n",
       "    <tr>\n",
       "      <th>44</th>\n",
       "      <td>44</td>\n",
       "      <td>deqtepsnql@gmail.com</td>\n",
       "      <td>113.91</td>\n",
       "      <td>2015</td>\n",
       "    </tr>\n",
       "    <tr>\n",
       "      <th>45</th>\n",
       "      <td>45</td>\n",
       "      <td>kuebkesyjh@gmail.com</td>\n",
       "      <td>127.41</td>\n",
       "      <td>2015</td>\n",
       "    </tr>\n",
       "    <tr>\n",
       "      <th>46</th>\n",
       "      <td>46</td>\n",
       "      <td>yxbpcskdtb@gmail.com</td>\n",
       "      <td>120.65</td>\n",
       "      <td>2015</td>\n",
       "    </tr>\n",
       "    <tr>\n",
       "      <th>47</th>\n",
       "      <td>47</td>\n",
       "      <td>wsrruqhtax@gmail.com</td>\n",
       "      <td>161.61</td>\n",
       "      <td>2015</td>\n",
       "    </tr>\n",
       "    <tr>\n",
       "      <th>48</th>\n",
       "      <td>48</td>\n",
       "      <td>gsdiahvgox@gmail.com</td>\n",
       "      <td>123.79</td>\n",
       "      <td>2015</td>\n",
       "    </tr>\n",
       "    <tr>\n",
       "      <th>49</th>\n",
       "      <td>49</td>\n",
       "      <td>qkmpkdqtsk@gmail.com</td>\n",
       "      <td>29.37</td>\n",
       "      <td>2015</td>\n",
       "    </tr>\n",
       "  </tbody>\n",
       "</table>\n",
       "</div>"
      ],
      "text/plain": [
       "    Unnamed: 0         customer_email  net_revenue  year\n",
       "0            0   nhknapwsbx@gmail.com       249.92  2015\n",
       "1            1   joiuzbvcpn@gmail.com        87.61  2015\n",
       "2            2   ukkjctepxt@gmail.com       168.38  2015\n",
       "3            3   gykatilzrt@gmail.com        62.40  2015\n",
       "4            4   mmsgsrtxah@gmail.com        43.08  2015\n",
       "5            5   mobvusnzfr@gmail.com        39.44  2015\n",
       "6            6   kxwkqvacsv@gmail.com       171.46  2015\n",
       "7            7   iqmnugdcjs@gmail.com       111.99  2015\n",
       "8            8   baiikostmd@gmail.com       170.70  2015\n",
       "9            9   lfeafnigbu@gmail.com        54.99  2015\n",
       "10          10   utycjynusf@gmail.com        89.05  2015\n",
       "11          11  dptyjlaniw@gmail.com        204.39  2015\n",
       "12          12   ywioceuqnw@gmail.com        76.70  2015\n",
       "13          13   hrnaahgrqr@gmail.com        65.32  2015\n",
       "14          14   sktswronzp@gmail.com       102.87  2015\n",
       "15          15   tqxsjlgjpi@gmail.com       107.71  2015\n",
       "16          16   hxshgpdxtr@gmail.com       180.59  2015\n",
       "17          17   ifilbfvetw@gmail.com       215.90  2015\n",
       "18          18   urqinnnoue@gmail.com       181.91  2015\n",
       "19          19   mzqkkusvjz@gmail.com        38.53  2015\n",
       "20          20   kdshnrqshe@gmail.com       245.25  2015\n",
       "21          21   ehgpdadhkb@gmail.com       157.16  2015\n",
       "22          22  hdefrrdccu@gmail.com        174.05  2015\n",
       "23          23   ithsayiheg@gmail.com        43.62  2015\n",
       "24          24   zvhsssvgor@gmail.com        21.55  2015\n",
       "25          25   gkdstuxmfk@gmail.com        94.02  2015\n",
       "26          26   jjafctqaqe@gmail.com        32.09  2015\n",
       "27          27   xiwenewrdq@gmail.com       222.78  2015\n",
       "28          28   gipqsrvngd@gmail.com       122.71  2015\n",
       "29          29   iqdogiwbsn@gmail.com       243.29  2015\n",
       "30          30   luqtbavufp@gmail.com        56.15  2015\n",
       "31          31   drnjwgseuf@gmail.com       199.89  2015\n",
       "32          32   pmclqsdgki@gmail.com        13.23  2015\n",
       "33          33   jmxtykhatc@gmail.com        68.71  2015\n",
       "34          34   nxrjmwoizg@gmail.com        56.68  2015\n",
       "35          35   qtpxmutgcv@gmail.com        98.29  2015\n",
       "36          36   egkydtstfz@gmail.com       249.35  2015\n",
       "37          37   aazmwnqixh@gmail.com       129.29  2015\n",
       "38          38   yydtkvjufm@gmail.com       189.45  2015\n",
       "39          39   uwxnjcdstj@gmail.com        42.12  2015\n",
       "40          40   akwxtbjuki@gmail.com       246.79  2015\n",
       "41          41   hejtkusufw@gmail.com       129.21  2015\n",
       "42          42   uojxdezlzq@gmail.com       118.55  2015\n",
       "43          43   esxojnufym@gmail.com        83.04  2015\n",
       "44          44  deqtepsnql@gmail.com        113.91  2015\n",
       "45          45   kuebkesyjh@gmail.com       127.41  2015\n",
       "46          46   yxbpcskdtb@gmail.com       120.65  2015\n",
       "47          47   wsrruqhtax@gmail.com       161.61  2015\n",
       "48          48   gsdiahvgox@gmail.com       123.79  2015\n",
       "49          49   qkmpkdqtsk@gmail.com        29.37  2015"
      ]
     },
     "execution_count": 167,
     "metadata": {},
     "output_type": "execute_result"
    }
   ],
   "source": [
    "data.info()\n",
    "data.head(50)"
   ]
  },
  {
   "cell_type": "markdown",
   "metadata": {},
   "source": [
    "## Total revenue for the current year (Current = 2017)"
   ]
  },
  {
   "cell_type": "code",
   "execution_count": 168,
   "metadata": {},
   "outputs": [
    {
     "data": {
      "text/html": [
       "<div>\n",
       "<style scoped>\n",
       "    .dataframe tbody tr th:only-of-type {\n",
       "        vertical-align: middle;\n",
       "    }\n",
       "\n",
       "    .dataframe tbody tr th {\n",
       "        vertical-align: top;\n",
       "    }\n",
       "\n",
       "    .dataframe thead th {\n",
       "        text-align: right;\n",
       "    }\n",
       "</style>\n",
       "<table border=\"1\" class=\"dataframe\">\n",
       "  <thead>\n",
       "    <tr style=\"text-align: right;\">\n",
       "      <th></th>\n",
       "      <th>net_revenue</th>\n",
       "    </tr>\n",
       "    <tr>\n",
       "      <th>year</th>\n",
       "      <th></th>\n",
       "    </tr>\n",
       "  </thead>\n",
       "  <tbody>\n",
       "    <tr>\n",
       "      <th>2016</th>\n",
       "      <td>25730943.59</td>\n",
       "    </tr>\n",
       "    <tr>\n",
       "      <th>2015</th>\n",
       "      <td>29036749.19</td>\n",
       "    </tr>\n",
       "    <tr>\n",
       "      <th>2017</th>\n",
       "      <td>31417495.03</td>\n",
       "    </tr>\n",
       "  </tbody>\n",
       "</table>\n",
       "</div>"
      ],
      "text/plain": [
       "      net_revenue\n",
       "year             \n",
       "2016  25730943.59\n",
       "2015  29036749.19\n",
       "2017  31417495.03"
      ]
     },
     "execution_count": 168,
     "metadata": {},
     "output_type": "execute_result"
    }
   ],
   "source": [
    "rev_table = data[['net_revenue', 'year']]\n",
    "rev_table2 = rev_table.groupby('year').sum().sort_values('net_revenue')\n",
    "\n",
    "rev_table2"
   ]
  },
  {
   "cell_type": "markdown",
   "metadata": {},
   "source": [
    "The total revenue for the current year is $31,417,495.03"
   ]
  },
  {
   "cell_type": "markdown",
   "metadata": {},
   "source": [
    "## New Customer Revenue"
   ]
  },
  {
   "cell_type": "code",
   "execution_count": 169,
   "metadata": {
    "scrolled": true
   },
   "outputs": [
    {
     "name": "stdout",
     "output_type": "stream",
     "text": [
      "New customer revenue for 2017 was: 28676607.64\n"
     ]
    },
    {
     "data": {
      "text/html": [
       "<div>\n",
       "<style scoped>\n",
       "    .dataframe tbody tr th:only-of-type {\n",
       "        vertical-align: middle;\n",
       "    }\n",
       "\n",
       "    .dataframe tbody tr th {\n",
       "        vertical-align: top;\n",
       "    }\n",
       "\n",
       "    .dataframe thead th {\n",
       "        text-align: right;\n",
       "    }\n",
       "</style>\n",
       "<table border=\"1\" class=\"dataframe\">\n",
       "  <thead>\n",
       "    <tr style=\"text-align: right;\">\n",
       "      <th></th>\n",
       "      <th>Unnamed: 0</th>\n",
       "      <th>customer_email</th>\n",
       "      <th>net_revenue</th>\n",
       "      <th>year</th>\n",
       "      <th>New</th>\n",
       "    </tr>\n",
       "  </thead>\n",
       "  <tbody>\n",
       "    <tr>\n",
       "      <th>0</th>\n",
       "      <td>0</td>\n",
       "      <td>nhknapwsbx@gmail.com</td>\n",
       "      <td>249.92</td>\n",
       "      <td>2015</td>\n",
       "      <td>New</td>\n",
       "    </tr>\n",
       "    <tr>\n",
       "      <th>1</th>\n",
       "      <td>1</td>\n",
       "      <td>joiuzbvcpn@gmail.com</td>\n",
       "      <td>87.61</td>\n",
       "      <td>2015</td>\n",
       "      <td>New</td>\n",
       "    </tr>\n",
       "    <tr>\n",
       "      <th>2</th>\n",
       "      <td>2</td>\n",
       "      <td>ukkjctepxt@gmail.com</td>\n",
       "      <td>168.38</td>\n",
       "      <td>2015</td>\n",
       "      <td>New</td>\n",
       "    </tr>\n",
       "    <tr>\n",
       "      <th>3</th>\n",
       "      <td>3</td>\n",
       "      <td>gykatilzrt@gmail.com</td>\n",
       "      <td>62.40</td>\n",
       "      <td>2015</td>\n",
       "      <td>New</td>\n",
       "    </tr>\n",
       "    <tr>\n",
       "      <th>4</th>\n",
       "      <td>4</td>\n",
       "      <td>mmsgsrtxah@gmail.com</td>\n",
       "      <td>43.08</td>\n",
       "      <td>2015</td>\n",
       "      <td>New</td>\n",
       "    </tr>\n",
       "  </tbody>\n",
       "</table>\n",
       "</div>"
      ],
      "text/plain": [
       "   Unnamed: 0         customer_email  net_revenue  year  New\n",
       "0           0   nhknapwsbx@gmail.com       249.92  2015  New\n",
       "1           1   joiuzbvcpn@gmail.com        87.61  2015  New\n",
       "2           2   ukkjctepxt@gmail.com       168.38  2015  New\n",
       "3           3   gykatilzrt@gmail.com        62.40  2015  New\n",
       "4           4   mmsgsrtxah@gmail.com        43.08  2015  New"
      ]
     },
     "execution_count": 169,
     "metadata": {},
     "output_type": "execute_result"
    }
   ],
   "source": [
    "ncr = data.copy()\n",
    "ncr = ncr.assign(New = np.where(~ncr['customer_email'].duplicated(), 'New', 'Existing'))\n",
    "\n",
    "new_customers = ncr[(ncr['year'] == 2017) & (ncr['New'] == 'New')]\n",
    "print('New customer revenue for 2017 was:', str(new_customers['net_revenue'].sum()))\n",
    "ncr.head(5)"
   ]
  },
  {
   "cell_type": "markdown",
   "metadata": {},
   "source": [
    "#### Existing Customer Growth (Revenue of existing customers for current year –(minus) Revenue of existing customers from the previous year)"
   ]
  },
  {
   "cell_type": "code",
   "execution_count": 171,
   "metadata": {},
   "outputs": [
    {
     "name": "stdout",
     "output_type": "stream",
     "text": [
      "Existing customer growth(minus means shrinkage):  -4744565.19\n"
     ]
    }
   ],
   "source": [
    "rev_ex_17 = ncr[(ncr['year'] == 2017) & (ncr['New'] == \"Existing\")].net_revenue.sum()\n",
    "rev_ex_16 = ncr[(ncr['year'] == 2016) & (ncr['New'] == 'Existing')].net_revenue.sum()\n",
    "print('Existing customer growth(minus means shrinkage): ',rev_ex_17-rev_ex_16)"
   ]
  },
  {
   "cell_type": "markdown",
   "metadata": {},
   "source": [
    "## Revenue lost from attrition"
   ]
  },
  {
   "cell_type": "code",
   "execution_count": 172,
   "metadata": {},
   "outputs": [
    {
     "name": "stdout",
     "output_type": "stream",
     "text": [
      "Revenue lost from attrition for year 2017 is:  22990056.2\n"
     ]
    }
   ],
   "source": [
    "rev_16 = ncr[ncr['year'] == 2016].net_revenue.sum() \n",
    "rev_ex_17 - rev_16\n",
    "\n",
    "print(\"Revenue lost from attrition for year 2017 is: \", -(rev_ex_17 - rev_16))"
   ]
  },
  {
   "cell_type": "markdown",
   "metadata": {},
   "source": [
    "### Existing Customer Revenue Current Year"
   ]
  },
  {
   "cell_type": "code",
   "execution_count": 173,
   "metadata": {},
   "outputs": [
    {
     "name": "stdout",
     "output_type": "stream",
     "text": [
      "Existing Customer Revenue Current Year: 2740887.3899999997\n"
     ]
    }
   ],
   "source": [
    "print('Existing Customer Revenue Current Year:',rev_ex_17)"
   ]
  },
  {
   "cell_type": "markdown",
   "metadata": {},
   "source": [
    "### Existing Customer Revenue Prior Year"
   ]
  },
  {
   "cell_type": "code",
   "execution_count": 174,
   "metadata": {},
   "outputs": [
    {
     "name": "stdout",
     "output_type": "stream",
     "text": [
      "Existing Customer Revenue Prior Year 7485452.58\n"
     ]
    }
   ],
   "source": [
    "print('Existing Customer Revenue Prior Year',rev_ex_16)"
   ]
  },
  {
   "cell_type": "markdown",
   "metadata": {},
   "source": [
    "## Total customers Current Year"
   ]
  },
  {
   "cell_type": "code",
   "execution_count": 175,
   "metadata": {},
   "outputs": [
    {
     "name": "stdout",
     "output_type": "stream",
     "text": [
      "Total customers Current Year: 249987\n"
     ]
    }
   ],
   "source": [
    "print('Total customers Current Year:',ncr[ncr['year'] == 2017]['customer_email'].count())"
   ]
  },
  {
   "cell_type": "markdown",
   "metadata": {},
   "source": [
    "### Total Customers Previous Year"
   ]
  },
  {
   "cell_type": "code",
   "execution_count": 176,
   "metadata": {},
   "outputs": [
    {
     "name": "stdout",
     "output_type": "stream",
     "text": [
      "Total customers previous Year: 204646\n"
     ]
    }
   ],
   "source": [
    "print('Total customers previous Year:',ncr[ncr['year'] == 2016]['customer_email'].count())"
   ]
  },
  {
   "cell_type": "markdown",
   "metadata": {},
   "source": [
    "### New Customers"
   ]
  },
  {
   "cell_type": "code",
   "execution_count": 177,
   "metadata": {},
   "outputs": [
    {
     "name": "stdout",
     "output_type": "stream",
     "text": [
      "New customers:  228262\n"
     ]
    }
   ],
   "source": [
    "new_cust = ncr[(ncr['year'] == 2017)&(ncr['New'] == 'New')]['customer_email'].count()\n",
    "print(\"New customers: \",new_cust)"
   ]
  },
  {
   "cell_type": "markdown",
   "metadata": {},
   "source": [
    "### Lost Customers\n",
    "###### Equation Used: Total customers in '16 - Existing customers in '17"
   ]
  },
  {
   "cell_type": "code",
   "execution_count": 178,
   "metadata": {},
   "outputs": [
    {
     "name": "stdout",
     "output_type": "stream",
     "text": [
      "Lost customers:  182921\n"
     ]
    }
   ],
   "source": [
    "lost_cust = ncr[(ncr['year'] == 2016)]['customer_email'].count()-ncr[(ncr['year']==2017)&(ncr['New']=='Existing')]['customer_email'].count()\n",
    "print(\"Lost customers: \",lost_cust)"
   ]
  },
  {
   "cell_type": "markdown",
   "metadata": {},
   "source": [
    "# Visualizations"
   ]
  },
  {
   "cell_type": "code",
   "execution_count": 179,
   "metadata": {},
   "outputs": [],
   "source": [
    "rev_table2 = rev_table2.reset_index()"
   ]
  },
  {
   "cell_type": "code",
   "execution_count": 183,
   "metadata": {},
   "outputs": [
    {
     "data": {
      "text/html": [
       "<div>\n",
       "<style scoped>\n",
       "    .dataframe tbody tr th:only-of-type {\n",
       "        vertical-align: middle;\n",
       "    }\n",
       "\n",
       "    .dataframe tbody tr th {\n",
       "        vertical-align: top;\n",
       "    }\n",
       "\n",
       "    .dataframe thead th {\n",
       "        text-align: right;\n",
       "    }\n",
       "</style>\n",
       "<table border=\"1\" class=\"dataframe\">\n",
       "  <thead>\n",
       "    <tr style=\"text-align: right;\">\n",
       "      <th></th>\n",
       "      <th>year</th>\n",
       "      <th>net_revenue</th>\n",
       "    </tr>\n",
       "  </thead>\n",
       "  <tbody>\n",
       "    <tr>\n",
       "      <th>1</th>\n",
       "      <td>2015</td>\n",
       "      <td>29036749.19</td>\n",
       "    </tr>\n",
       "    <tr>\n",
       "      <th>0</th>\n",
       "      <td>2016</td>\n",
       "      <td>25730943.59</td>\n",
       "    </tr>\n",
       "    <tr>\n",
       "      <th>2</th>\n",
       "      <td>2017</td>\n",
       "      <td>31417495.03</td>\n",
       "    </tr>\n",
       "  </tbody>\n",
       "</table>\n",
       "</div>"
      ],
      "text/plain": [
       "   year  net_revenue\n",
       "1  2015  29036749.19\n",
       "0  2016  25730943.59\n",
       "2  2017  31417495.03"
      ]
     },
     "execution_count": 183,
     "metadata": {},
     "output_type": "execute_result"
    }
   ],
   "source": [
    "rev_table2 = rev_table2.sort_values('year', ascending = True)\n",
    "rev_table2"
   ]
  },
  {
   "cell_type": "code",
   "execution_count": 184,
   "metadata": {},
   "outputs": [
    {
     "data": {
      "image/png": "[encoded data removed]",
      "text/plain": [
       "<Figure size 432x432 with 1 Axes>"
      ]
     },
     "metadata": {},
     "output_type": "display_data"
    }
   ],
   "source": [
    "fig_a, ax_a = plt.subplots(figsize = (6,6))\n",
    "sns.set_theme(style=\"whitegrid\")\n",
    "ax = sns.barplot(x=\"year\", y=\"net_revenue\", data=rev_table2,\n",
    "                palette=\"Blues_d\")"
   ]
  },
  {
   "cell_type": "markdown",
   "metadata": {},
   "source": [
    "Revenue was at 29.03M in 2015, dipped to 25.73M in 2016, then rose to 31.42M in 2017."
   ]
  },
  {
   "cell_type": "code",
   "execution_count": 185,
   "metadata": {},
   "outputs": [
    {
     "data": {
      "image/png": "[encoded data removed]",
      "text/plain": [
       "<Figure size 360x360 with 1 Axes>"
      ]
     },
     "metadata": {},
     "output_type": "display_data"
    }
   ],
   "source": [
    "new_15 = 231294\n",
    "new_16 = 145062\n",
    "exist_16 = 59584\n",
    "new_17 = 228262\n",
    "exist_17 = 21725\n",
    "\n",
    "fig0, ax0 = plt.subplots(figsize = (5,5))\n",
    "labels = ['New']\n",
    "ax0.pie([new_15], labels = labels)\n",
    "plt.legend(loc='upper left',labels=labels)\n",
    "ax0.legend(loc=\"lower right\")\n",
    "plt.title('Customer breakdown in 2015')\n",
    "plt.show()"
   ]
  },
  {
   "cell_type": "code",
   "execution_count": 153,
   "metadata": {
    "scrolled": true
   },
   "outputs": [
    {
     "data": {
      "image/png": "[encoded data removed]",
      "text/plain": [
       "<Figure size 360x360 with 1 Axes>"
      ]
     },
     "metadata": {},
     "output_type": "display_data"
    }
   ],
   "source": [
    "fig1, ax1 = plt.subplots(figsize = (5,5))\n",
    "labels = ['Existing', 'New']\n",
    "ax1.pie([exist_16, new_16], labels = labels)\n",
    "plt.legend(loc='upper left',labels=labels)\n",
    "ax1.legend(loc=\"lower right\")\n",
    "plt.title('Customer breakdown in 2016')\n",
    "plt.show()"
   ]
  },
  {
   "cell_type": "code",
   "execution_count": 154,
   "metadata": {},
   "outputs": [
    {
     "data": {
      "image/png": "[encoded data removed]",
      "text/plain": [
       "<Figure size 360x360 with 1 Axes>"
      ]
     },
     "metadata": {},
     "output_type": "display_data"
    }
   ],
   "source": [
    "fig2, ax2 = plt.subplots(figsize = (5,5))\n",
    "labels = ['Existing', 'New']\n",
    "ax2.pie([exist_17, new_17], labels = labels)\n",
    "plt.legend(loc='upper left',labels=labels)\n",
    "ax2.legend(loc=\"lower right\")\n",
    "plt.title('Customer breakdown in 2017')\n",
    "plt.show()"
   ]
  },
  {
   "cell_type": "markdown",
   "metadata": {},
   "source": [
    "From the three pie charts we can clearly see the trend of an steady increase in new customers."
   ]
  }
 ],
 "metadata": {
  "kernelspec": {
   "display_name": "Python 3",
   "language": "python",
   "name": "python3"
  },
  "language_info": {
   "codemirror_mode": {
    "name": "ipython",
    "version": 3
   },
   "file_extension": ".py",
   "mimetype": "text/x-python",
   "name": "python",
   "nbconvert_exporter": "python",
   "pygments_lexer": "ipython3",
   "version": "3.8.5"
  }
 },
 "nbformat": 4,
 "nbformat_minor": 4
}
